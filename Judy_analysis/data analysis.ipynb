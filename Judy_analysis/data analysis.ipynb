{
 "cells": [
  {
   "cell_type": "code",
   "execution_count": 272,
   "metadata": {},
   "outputs": [],
   "source": [
    "import numpy as np\n",
    "import pandas as pd\n",
    "from sklearn.preprocessing import LabelEncoder\n",
    "label_encoder = LabelEncoder()\n"
   ]
  },
  {
   "cell_type": "code",
   "execution_count": 273,
   "metadata": {},
   "outputs": [],
   "source": [
    "df_train= pd.read_csv(\"../Data/train.csv\")\n",
    "df_test= pd.read_csv(\"../Data/test.csv\")"
   ]
  },
  {
   "cell_type": "code",
   "execution_count": 274,
   "metadata": {},
   "outputs": [
    {
     "name": "stdout",
     "output_type": "stream",
     "text": [
      "<class 'pandas.core.frame.DataFrame'>\n",
      "RangeIndex: 10966 entries, 0 to 10965\n",
      "Data columns (total 24 columns):\n",
      " #   Column               Non-Null Count  Dtype  \n",
      "---  ------               --------------  -----  \n",
      " 0   TransactionNumber    10966 non-null  int64  \n",
      " 1   UserID               10966 non-null  int64  \n",
      " 2   Age                  10966 non-null  int64  \n",
      " 3   Gender               10966 non-null  object \n",
      " 4   Occupation           10966 non-null  object \n",
      " 5   EducationLevel       10966 non-null  object \n",
      " 6   MaritalStatus        10966 non-null  object \n",
      " 7   NumDependents        10966 non-null  int64  \n",
      " 8   Income               10966 non-null  object \n",
      " 9   Expenditure          10966 non-null  object \n",
      " 10  GiftsTransaction     10966 non-null  object \n",
      " 11  TransactionDate      10966 non-null  object \n",
      " 12  TransactionTime      10966 non-null  object \n",
      " 13  TransactionAmount    10966 non-null  object \n",
      " 14  MerchantID           10966 non-null  object \n",
      " 15  TransactionType      10966 non-null  object \n",
      " 16  TransactionLocation  10966 non-null  object \n",
      " 17  DeviceType           10966 non-null  object \n",
      " 18  Latitude             10923 non-null  float64\n",
      " 19  Longitude            10923 non-null  float64\n",
      " 20  EmailDomain          10966 non-null  object \n",
      " 21  Terrorism            10966 non-null  bool   \n",
      " 22  UserTenure           10966 non-null  int64  \n",
      " 23  IsFraud              10966 non-null  int64  \n",
      "dtypes: bool(1), float64(2), int64(6), object(15)\n",
      "memory usage: 1.9+ MB\n"
     ]
    }
   ],
   "source": [
    "df_train.info()"
   ]
  },
  {
   "cell_type": "code",
   "execution_count": 275,
   "metadata": {},
   "outputs": [
    {
     "data": {
      "text/plain": [
       "Index(['TransactionNumber', 'UserID', 'Age', 'Gender', 'Occupation',\n",
       "       'EducationLevel', 'MaritalStatus', 'NumDependents', 'Income',\n",
       "       'Expenditure', 'GiftsTransaction', 'TransactionDate', 'TransactionTime',\n",
       "       'TransactionAmount', 'MerchantID', 'TransactionType',\n",
       "       'TransactionLocation', 'DeviceType', 'Latitude', 'Longitude',\n",
       "       'EmailDomain', 'Terrorism', 'UserTenure', 'IsFraud'],\n",
       "      dtype='object')"
      ]
     },
     "execution_count": 275,
     "metadata": {},
     "output_type": "execute_result"
    }
   ],
   "source": [
    "df_train.columns"
   ]
  },
  {
   "cell_type": "markdown",
   "metadata": {},
   "source": [
    "## Data Analysis"
   ]
  },
  {
   "cell_type": "markdown",
   "metadata": {},
   "source": [
    "#### Checking labels distribution"
   ]
  },
  {
   "cell_type": "code",
   "execution_count": 276,
   "metadata": {},
   "outputs": [
    {
     "data": {
      "text/plain": [
       "<Axes: ylabel='count'>"
      ]
     },
     "execution_count": 276,
     "metadata": {},
     "output_type": "execute_result"
    },
    {
     "data": {
      "image/png": "[encoded data removed]",
      "text/plain": [
       "<Figure size 640x480 with 1 Axes>"
      ]
     },
     "metadata": {},
     "output_type": "display_data"
    }
   ],
   "source": [
    "df_train['IsFraud'].value_counts().plot.pie(explode=[0,0.1],autopct='%1.1f%%')"
   ]
  },
  {
   "cell_type": "markdown",
   "metadata": {},
   "source": [
    "36.4% Fraud and 63.6% not Fraud."
   ]
  },
  {
   "cell_type": "markdown",
   "metadata": {},
   "source": [
    "#### Checking amount unit"
   ]
  },
  {
   "cell_type": "code",
   "execution_count": 277,
   "metadata": {
    "vscode": {
     "languageId": "ruby"
    }
   },
   "outputs": [],
   "source": [
    "#df_train['transaction_units'] = df_train['TransactionAmount'].str.extract(r'([^\\d\\s.]+)')\n",
    "#df_train['income_units'] = df_train['Income'].str.extract(r'([^\\d\\s.]+)')\n",
    "#df_train['expend_units'] = df_train['Expenditure'].str.extract(r'([^\\d\\s.]+)')\n",
    "#print(df_train['transaction_units'].unique())\n",
    "#print(df_train['income_units'].unique())\n",
    "#print(df_train['expend_units'].unique())"
   ]
  },
  {
   "cell_type": "markdown",
   "metadata": {},
   "source": [
    "#### Checking gender type"
   ]
  },
  {
   "cell_type": "code",
   "execution_count": 278,
   "metadata": {
    "vscode": {
     "languageId": "ruby"
    }
   },
   "outputs": [
    {
     "name": "stdout",
     "output_type": "stream",
     "text": [
      "['Female' 'Male' 'he' 'isnotfemale' 'fem' 'she' 'man' 'woman' 'isnotmale']\n",
      "['man' 'Male' 'Female' 'he' 'fem' 'isnotfemale' 'she' 'isnotmale' 'woman']\n"
     ]
    }
   ],
   "source": [
    "print(df_train['Gender'].unique())\n",
    "print(df_test['Gender'].unique())"
   ]
  },
  {
   "cell_type": "code",
   "execution_count": 279,
   "metadata": {
    "vscode": {
     "languageId": "ruby"
    }
   },
   "outputs": [
    {
     "name": "stdout",
     "output_type": "stream",
     "text": [
      "['F' 'M' 'O']\n"
     ]
    }
   ],
   "source": [
    "def unify_gender(gender):\n",
    "    if gender in ['Female', 'fem', 'she', 'woman']:\n",
    "        return 'F'\n",
    "    elif gender in ['Male', 'he', 'man']:\n",
    "        return 'M'\n",
    "    elif gender in ['isnotfemale', 'isnotmale']:\n",
    "        return 'O'\n",
    "    else:\n",
    "        return 'unknown'\n",
    "\n",
    "df_train['Gender'] = df_train['Gender'].apply(unify_gender)\n",
    "\n",
    "print(df_train['Gender'].unique())"
   ]
  },
  {
   "cell_type": "code",
   "execution_count": 280,
   "metadata": {
    "vscode": {
     "languageId": "ruby"
    }
   },
   "outputs": [
    {
     "data": {
      "text/plain": [
       "array([0, 1, 2])"
      ]
     },
     "execution_count": 280,
     "metadata": {},
     "output_type": "execute_result"
    }
   ],
   "source": [
    "df_train['Gender'] = label_encoder.fit_transform(df_train['Gender'])\n",
    "df_train['Gender'].unique()"
   ]
  },
  {
   "cell_type": "code",
   "execution_count": 281,
   "metadata": {
    "vscode": {
     "languageId": "ruby"
    }
   },
   "outputs": [
    {
     "data": {
      "text/plain": [
       "array([1, 0, 2])"
      ]
     },
     "execution_count": 281,
     "metadata": {},
     "output_type": "execute_result"
    }
   ],
   "source": [
    "df_test['Gender'] = df_test['Gender'].apply(unify_gender)\n",
    "df_test['Gender'] = label_encoder.fit_transform(df_test['Gender'])\n",
    "df_test.Gender.unique()"
   ]
  },
  {
   "cell_type": "markdown",
   "metadata": {},
   "source": [
    "#### Checking age"
   ]
  },
  {
   "cell_type": "code",
   "execution_count": 282,
   "metadata": {
    "vscode": {
     "languageId": "ruby"
    }
   },
   "outputs": [
    {
     "data": {
      "text/plain": [
       "TransactionNumber  UserID  Age  Gender  Occupation    EducationLevel  MaritalStatus  NumDependents  Income         Expenditure    GiftsTransaction  TransactionDate  TransactionTime  TransactionAmount  MerchantID  TransactionType  TransactionLocation  DeviceType  Latitude    Longitude   EmailDomain                Terrorism  UserTenure  IsFraud\n",
       "1                  156     -38  0       Professional  High School     Single         2              39760.51 AUD   20149.52 AUD   2857.22 GBP       2023-06-14       07:39:53         252.72 AUD         M001        Purchase         Melbourne            Mobile      -31.840233  145.612793  johnsonnicole@gmail.com    True       67          0          1\n",
       "10179              3122    -43  0       Student       Bachelor        Single         4              53064.8 AUD    24295.44 AUD   1185.82 GBP       2023-05-24       10:38:30         AU$ 39.37          M002        Transfer         melbourne            Tablet      -25.042261  117.793221  bwright@gmail.com          False      33          0          1\n",
       "9907               1092    -35  0       Professional  Bachelor        Married        3              AU$ 174007.38  AU$ 123045.97  £ 5567.2          2023-11-25       01:35:38         113.37 AUD         M005        Transfer         Perth                Mobile      -31.840233  145.612793  howellteresa@yahoo.com     True       49          1          1\n",
       "9949               1874    -38  1       Unemployed    High School     Single         4              73261.55 AUD   AU$ 47239.25   1290.35 GBP       2023-10-29       10/12/16         AU$ 11.82          M002        Transfer         Hobart               Tablet      -30.000233  136.209152  aliciaashley@outlook.com   True       48          0          1\n",
       "9953               267     -24  1       Professional  Bachelor        Single         4              AU$ 41354.41   12571.42 AUD   £ 4537.5          2023-12-14       16:28:23         110.88 AUD         M007        Withdrawal       Sydney               Mobile      -37.020100  144.964600  jerry17@gmail.com          False      106         1          1\n",
       "                                                                                                                                                                                                                                                                                                                                                           ..\n",
       "4966               2877    -37  1       Unemployed    Bachelor        Married        1              AU$ 65568.76   25700.25 AUD   £ 2153.5          2023-08-27       00:00:00         AU$ 80.51          M007        Payment          Adelaide             Mobile      -30.000233  136.209152  csanders@gmail.com         True       105         1          1\n",
       "4986               2317    -24  1       Student       Master          Married        1              AU$ 92493.99   AU$ 52814.29   848.14 GBP        2023-07-22       08:27:21         AU$ 9.18           M006        Transfer         Melbourne            Mobile      -31.840233  145.612793  debraobrien@gmail.com      False      56          0          1\n",
       "4988               3954    -45  1       Student       High School     Single         4              AU$ 78607.27   AU$ 26298.62   £ 1569.8          2023-08-30       23:59:59         36.49 AUD          M004        Transfer         Hobart               Mobile      -25.042261  117.793221  martinfrank@yahoo.com      True       62          0          1\n",
       "4994               3835    -24  1       Student       High School     Married        4              68723.29 AUD   43705.44 AUD   £ 1713.11         2023-07-04       06:22:54         AU$ 259.91         M002        Withdrawal       Brisbane             Mobile      -20.917574  142.702789  danielwalker@tempmail.com  False      96          1          1\n",
       "14613              3925    -18  0       Professional  High School     Married        2              80403.31 AUD   AU$ 63429.08   £ 191.21          2023-06-28       07:15:41         AU$ 109.41         M004        Withdrawal       Brisbane             Desktop     -37.020100  144.964600  rcruz@yahoo.com            False      91          1          1\n",
       "Name: count, Length: 881, dtype: int64"
      ]
     },
     "execution_count": 282,
     "metadata": {},
     "output_type": "execute_result"
    }
   ],
   "source": [
    "df_train[(df_train['Age'] < 0)].value_counts()"
   ]
  },
  {
   "cell_type": "code",
   "execution_count": 283,
   "metadata": {
    "vscode": {
     "languageId": "ruby"
    }
   },
   "outputs": [],
   "source": [
    "df_train['Age'] = df_train['Age'].astype(str).str.replace(r'[^\\d]', '', regex=True).astype(int)"
   ]
  },
  {
   "cell_type": "code",
   "execution_count": 284,
   "metadata": {
    "vscode": {
     "languageId": "ruby"
    }
   },
   "outputs": [
    {
     "data": {
      "text/plain": [
       "Age\n",
       "-1     858\n",
       " 18    554\n",
       " 32    453\n",
       " 39    432\n",
       " 36    407\n",
       " 35    402\n",
       " 33    398\n",
       " 34    394\n",
       " 40    389\n",
       " 31    389\n",
       " 37    361\n",
       " 30    349\n",
       " 38    331\n",
       " 28    317\n",
       " 27    312\n",
       " 42    297\n",
       " 26    290\n",
       " 43    269\n",
       " 41    269\n",
       " 24    265\n",
       " 44    264\n",
       " 29    258\n",
       " 21    230\n",
       " 25    227\n",
       " 23    220\n",
       " 47    212\n",
       " 45    197\n",
       " 46    194\n",
       " 48    182\n",
       " 49    163\n",
       " 22    151\n",
       " 50    149\n",
       " 20    144\n",
       " 19    115\n",
       " 51     94\n",
       " 52     69\n",
       " 54     67\n",
       " 53     62\n",
       " 55     55\n",
       " 57     31\n",
       " 60     25\n",
       " 61     24\n",
       " 59     20\n",
       " 56     19\n",
       " 58     16\n",
       " 62     13\n",
       " 68     10\n",
       " 66     10\n",
       " 63      6\n",
       " 64      3\n",
       "Name: count, dtype: int64"
      ]
     },
     "execution_count": 284,
     "metadata": {},
     "output_type": "execute_result"
    }
   ],
   "source": [
    "df_train.loc[(df_train['Age'] > 100), 'Age'] = -1\n",
    "df_train.Age.value_counts()"
   ]
  },
  {
   "cell_type": "code",
   "execution_count": 285,
   "metadata": {},
   "outputs": [
    {
     "data": {
      "text/plain": [
       "Age\n",
       "-1     610\n",
       " 18    421\n",
       " 32    309\n",
       " 36    279\n",
       " 31    267\n",
       " 40    264\n",
       " 39    260\n",
       " 37    255\n",
       " 34    254\n",
       " 33    243\n",
       " 38    240\n",
       " 30    238\n",
       " 28    218\n",
       " 35    213\n",
       " 27    208\n",
       " 42    207\n",
       " 41    201\n",
       " 26    200\n",
       " 29    188\n",
       " 24    188\n",
       " 43    173\n",
       " 25    150\n",
       " 21    147\n",
       " 47    141\n",
       " 23    137\n",
       " 44    137\n",
       " 45    127\n",
       " 46    120\n",
       " 48    118\n",
       " 22    116\n",
       " 49     99\n",
       " 20     91\n",
       " 50     82\n",
       " 19     76\n",
       " 51     65\n",
       " 54     43\n",
       " 52     39\n",
       " 53     38\n",
       " 55     28\n",
       " 57     23\n",
       " 60     22\n",
       " 56     22\n",
       " 59     11\n",
       " 58     11\n",
       " 62     10\n",
       " 66      9\n",
       " 63      5\n",
       " 61      4\n",
       " 67      3\n",
       " 68      1\n",
       " 64      1\n",
       "Name: count, dtype: int64"
      ]
     },
     "execution_count": 285,
     "metadata": {},
     "output_type": "execute_result"
    }
   ],
   "source": [
    "df_test['Age'] = df_test['Age'].astype(str).str.replace(r'[^\\d]', '', regex=True).astype(int)\n",
    "df_test.loc[(df_test['Age'] > 100), 'Age'] = -1\n",
    "df_test.Age.value_counts()"
   ]
  },
  {
   "cell_type": "markdown",
   "metadata": {},
   "source": [
    "#### Handling Terrorism"
   ]
  },
  {
   "cell_type": "code",
   "execution_count": 286,
   "metadata": {},
   "outputs": [],
   "source": [
    "df_train['Terrorism'] = df_train['Terrorism'].astype(int)"
   ]
  },
  {
   "cell_type": "markdown",
   "metadata": {},
   "source": [
    "#### Handling TransactionType"
   ]
  },
  {
   "cell_type": "code",
   "execution_count": 287,
   "metadata": {},
   "outputs": [
    {
     "data": {
      "text/plain": [
       "array(['Withdrawal', 'Purchase', 'Payment', 'Transfer'], dtype=object)"
      ]
     },
     "execution_count": 287,
     "metadata": {},
     "output_type": "execute_result"
    }
   ],
   "source": [
    "df_train['TransactionType'].unique()"
   ]
  },
  {
   "cell_type": "code",
   "execution_count": 288,
   "metadata": {},
   "outputs": [
    {
     "data": {
      "text/plain": [
       "array([3, 1, 0, 2])"
      ]
     },
     "execution_count": 288,
     "metadata": {},
     "output_type": "execute_result"
    }
   ],
   "source": [
    "df_train['TransactionType'] = label_encoder.fit_transform(df_train['TransactionType'])\n",
    "df_train['TransactionType'].unique()"
   ]
  },
  {
   "cell_type": "markdown",
   "metadata": {},
   "source": [
    "#### Handling TransactionLocation"
   ]
  },
  {
   "cell_type": "code",
   "execution_count": 289,
   "metadata": {},
   "outputs": [
    {
     "data": {
      "text/plain": [
       "array(['Adelaide', 'Canberra', 'Brisbane', 'Darwin', 'MLB', 'Mel',\n",
       "       'Sydney', 'Hobart', 'HBT', 'Melb', 'Perth', 'Melbourne',\n",
       "       'canberra', 'brisbane', 'melbourne', 'Bne', 'perth', 'DRW',\n",
       "       'Melburn', 'hobart', 'darwin', 'Adelaide City', 'Adl', 'CBR',\n",
       "       'PTH', 'Cbr', 'Drw', 'sydney', 'BNE', 'Pth', 'SYD', 'Hbt', 'adl',\n",
       "       'Syd'], dtype=object)"
      ]
     },
     "execution_count": 289,
     "metadata": {},
     "output_type": "execute_result"
    }
   ],
   "source": [
    "df_train['TransactionLocation'].unique()"
   ]
  },
  {
   "cell_type": "code",
   "execution_count": 290,
   "metadata": {},
   "outputs": [
    {
     "data": {
      "text/plain": [
       "array(['ADL', 'CBR', 'BNE', 'DRW', 'MLB', 'SYD', 'HBT', 'PTH'],\n",
       "      dtype=object)"
      ]
     },
     "execution_count": 290,
     "metadata": {},
     "output_type": "execute_result"
    }
   ],
   "source": [
    "def unify_location(location):\n",
    "    if location in ['Adelaide', 'Adelaide City', 'Adl', 'adl']:\n",
    "        return 'ADL'\n",
    "    elif location in ['Canberra', 'canberra', 'CBR' ,'Cbr']:\n",
    "        return 'CBR'\n",
    "    elif location in ['Brisbane', 'brisbane', 'Bne', 'BNE']:\n",
    "        return 'BNE'\n",
    "    elif location in ['Darwin', 'DRW', 'darwin', 'Drw']:\n",
    "        return 'DRW'\n",
    "    elif location in ['MLB', 'Mel', 'Melb', 'Melbourne', 'melbourne', 'Melburn']:\n",
    "        return 'MLB'\n",
    "    elif location in ['Sydney', 'sydney', 'SYD', 'Syd']:\n",
    "        return 'SYD'\n",
    "    elif location in ['Hobart', 'HBT', 'hobart', 'Hbt']:\n",
    "        return 'HBT'\n",
    "    elif location in ['Perth', 'perth', 'PTH', 'Pth']:\n",
    "        return 'PTH'\n",
    "    else:\n",
    "        return 'unknown'\n",
    "\n",
    "df_train['TransactionLocation'] = df_train['TransactionLocation'].apply(unify_location)\n",
    "df_train['TransactionLocation'].unique()"
   ]
  },
  {
   "cell_type": "code",
   "execution_count": 291,
   "metadata": {},
   "outputs": [
    {
     "data": {
      "text/plain": [
       "array([0, 2, 1, 3, 5, 7, 4, 6])"
      ]
     },
     "execution_count": 291,
     "metadata": {},
     "output_type": "execute_result"
    }
   ],
   "source": [
    "df_train['TransactionLocation'] = label_encoder.fit_transform(df_train['TransactionLocation'])\n",
    "df_train['TransactionLocation'].unique()"
   ]
  },
  {
   "cell_type": "markdown",
   "metadata": {},
   "source": [
    "#### Education level"
   ]
  },
  {
   "cell_type": "code",
   "execution_count": 292,
   "metadata": {},
   "outputs": [
    {
     "data": {
      "text/plain": [
       "array(['Bachelor', 'High School', 'Master', 'PhD'], dtype=object)"
      ]
     },
     "execution_count": 292,
     "metadata": {},
     "output_type": "execute_result"
    }
   ],
   "source": [
    "df_train['EducationLevel'].unique()"
   ]
  },
  {
   "cell_type": "code",
   "execution_count": 293,
   "metadata": {},
   "outputs": [
    {
     "data": {
      "text/plain": [
       "array([1, 0, 2, 3], dtype=int8)"
      ]
     },
     "execution_count": 293,
     "metadata": {},
     "output_type": "execute_result"
    }
   ],
   "source": [
    "education_order = ['High School', 'Bachelor', 'Master', 'PhD']\n",
    "df_train['EducationLevel'] = pd.Categorical(df_train['EducationLevel'], categories= education_order, ordered=True)\n",
    "df_train['EducationLevel'] = df_train['EducationLevel'].cat.codes\n",
    "df_train['EducationLevel'].unique()"
   ]
  },
  {
   "cell_type": "markdown",
   "metadata": {},
   "source": [
    "#### Occupation"
   ]
  },
  {
   "cell_type": "code",
   "execution_count": 294,
   "metadata": {},
   "outputs": [
    {
     "data": {
      "text/plain": [
       "array(['Professional', 'Student', 'Unemployed', 'Retired'], dtype=object)"
      ]
     },
     "execution_count": 294,
     "metadata": {},
     "output_type": "execute_result"
    }
   ],
   "source": [
    "df_train['Occupation'].unique()"
   ]
  },
  {
   "cell_type": "code",
   "execution_count": 295,
   "metadata": {},
   "outputs": [
    {
     "data": {
      "text/plain": [
       "array([2, 0, 1, 3], dtype=int8)"
      ]
     },
     "execution_count": 295,
     "metadata": {},
     "output_type": "execute_result"
    }
   ],
   "source": [
    "occupation_order = ['Student', 'Unemployed', 'Professional', 'Retired']\n",
    "df_train['Occupation'] = pd.Categorical(df_train['Occupation'], categories= occupation_order, ordered=True)\n",
    "df_train['Occupation'] = df_train['Occupation'].cat.codes\n",
    "df_train['Occupation'].unique()"
   ]
  },
  {
   "cell_type": "markdown",
   "metadata": {},
   "source": [
    "#### Marital Status"
   ]
  },
  {
   "cell_type": "code",
   "execution_count": 296,
   "metadata": {},
   "outputs": [
    {
     "data": {
      "text/plain": [
       "array(['Widowed', 'Married', 'Single', 'Divorced'], dtype=object)"
      ]
     },
     "execution_count": 296,
     "metadata": {},
     "output_type": "execute_result"
    }
   ],
   "source": [
    "df_train['MaritalStatus'].unique()"
   ]
  },
  {
   "cell_type": "code",
   "execution_count": 297,
   "metadata": {},
   "outputs": [
    {
     "data": {
      "text/plain": [
       "array([3, 1, 0, 2], dtype=int8)"
      ]
     },
     "execution_count": 297,
     "metadata": {},
     "output_type": "execute_result"
    }
   ],
   "source": [
    "marital_order = ['Single', 'Married', 'Divorced', 'Widowed']\n",
    "df_train['MaritalStatus'] = pd.Categorical(df_train['MaritalStatus'], categories= marital_order, ordered=True)\n",
    "df_train['MaritalStatus'] = df_train['MaritalStatus'].cat.codes\n",
    "df_train['MaritalStatus'].unique()"
   ]
  },
  {
   "cell_type": "markdown",
   "metadata": {},
   "source": [
    "#### Device type"
   ]
  },
  {
   "cell_type": "code",
   "execution_count": 298,
   "metadata": {},
   "outputs": [
    {
     "data": {
      "text/plain": [
       "array(['Mobile', 'iphone 15', 'Tablet', 'Desktop', 'android',\n",
       "       'smartphone', 'mob', 'galaxys7'], dtype=object)"
      ]
     },
     "execution_count": 298,
     "metadata": {},
     "output_type": "execute_result"
    }
   ],
   "source": [
    "df_train['DeviceType'].unique()"
   ]
  },
  {
   "cell_type": "code",
   "execution_count": 299,
   "metadata": {},
   "outputs": [
    {
     "data": {
      "text/plain": [
       "0"
      ]
     },
     "execution_count": 299,
     "metadata": {},
     "output_type": "execute_result"
    }
   ],
   "source": [
    "df_train.DeviceType = df_train.DeviceType.map({'Mobile': 'mobile', 'Desktop': 'computer', 'Tablet': 'tablet', \n",
    "                      'galaxys7': 'mobile', 'iphone 15': 'mobile', 'android': 'mobile',\n",
    "                     'smartphone': 'mobile', 'mob': 'mobile'})\n",
    "\n",
    "df_train.DeviceType.isnull().sum()"
   ]
  },
  {
   "cell_type": "code",
   "execution_count": 300,
   "metadata": {},
   "outputs": [
    {
     "data": {
      "text/plain": [
       "array([0, 2, 1])"
      ]
     },
     "execution_count": 300,
     "metadata": {},
     "output_type": "execute_result"
    }
   ],
   "source": [
    "df_train.DeviceType = df_train.DeviceType.map({'mobile': 0, 'computer': 1, 'tablet': 2})\n",
    "df_train.DeviceType.unique()"
   ]
  },
  {
   "cell_type": "markdown",
   "metadata": {},
   "source": [
    "#### Drop not important features"
   ]
  },
  {
   "cell_type": "code",
   "execution_count": 301,
   "metadata": {},
   "outputs": [],
   "source": [
    "df_train.drop(['TransactionDate','TransactionTime','MerchantID','EmailDomain', 'Latitude', 'Longitude'],axis=1,inplace=True)"
   ]
  },
  {
   "cell_type": "code",
   "execution_count": 306,
   "metadata": {},
   "outputs": [],
   "source": [
    "df_cleaned = pd.read_csv('../Data/Kevin_Shen/train_cleaned.csv')\n",
    "df_train['Income'] = df_cleaned['Income']\n",
    "df_train['Expenditure'] = df_cleaned['Expenditure']\n",
    "df_train['GiftsTransaction'] = df_cleaned['GiftsTransaction']\n",
    "df_train['TransactionAmount'] = df_cleaned['TransactionAmount']\n",
    "df_train.to_csv('../Data/train_final_Judy.csv', index=False)"
   ]
  },
  {
   "cell_type": "markdown",
   "metadata": {},
   "source": [
    "## Modeling"
   ]
  },
  {
   "cell_type": "code",
   "execution_count": 308,
   "metadata": {},
   "outputs": [],
   "source": [
    "import seaborn as sns\n",
    "import matplotlib.pyplot as plt"
   ]
  },
  {
   "cell_type": "code",
   "execution_count": 307,
   "metadata": {},
   "outputs": [
    {
     "data": {
      "text/html": [
       "<div>\n",
       "<style scoped>\n",
       "    .dataframe tbody tr th:only-of-type {\n",
       "        vertical-align: middle;\n",
       "    }\n",
       "\n",
       "    .dataframe tbody tr th {\n",
       "        vertical-align: top;\n",
       "    }\n",
       "\n",
       "    .dataframe thead th {\n",
       "        text-align: right;\n",
       "    }\n",
       "</style>\n",
       "<table border=\"1\" class=\"dataframe\">\n",
       "  <thead>\n",
       "    <tr style=\"text-align: right;\">\n",
       "      <th></th>\n",
       "      <th>TransactionNumber</th>\n",
       "      <th>UserID</th>\n",
       "      <th>Age</th>\n",
       "      <th>Gender</th>\n",
       "      <th>Occupation</th>\n",
       "      <th>EducationLevel</th>\n",
       "      <th>MaritalStatus</th>\n",
       "      <th>NumDependents</th>\n",
       "      <th>Income</th>\n",
       "      <th>Expenditure</th>\n",
       "      <th>GiftsTransaction</th>\n",
       "      <th>TransactionAmount</th>\n",
       "      <th>TransactionType</th>\n",
       "      <th>TransactionLocation</th>\n",
       "      <th>DeviceType</th>\n",
       "      <th>Terrorism</th>\n",
       "      <th>UserTenure</th>\n",
       "      <th>IsFraud</th>\n",
       "    </tr>\n",
       "  </thead>\n",
       "  <tbody>\n",
       "    <tr>\n",
       "      <th>0</th>\n",
       "      <td>8765</td>\n",
       "      <td>70</td>\n",
       "      <td>37</td>\n",
       "      <td>0</td>\n",
       "      <td>2</td>\n",
       "      <td>1</td>\n",
       "      <td>3</td>\n",
       "      <td>3</td>\n",
       "      <td>28884.43</td>\n",
       "      <td>14610.610</td>\n",
       "      <td>2100.02</td>\n",
       "      <td>258.140</td>\n",
       "      <td>3</td>\n",
       "      <td>0</td>\n",
       "      <td>0</td>\n",
       "      <td>0</td>\n",
       "      <td>113</td>\n",
       "      <td>1</td>\n",
       "    </tr>\n",
       "    <tr>\n",
       "      <th>1</th>\n",
       "      <td>9645</td>\n",
       "      <td>3386</td>\n",
       "      <td>34</td>\n",
       "      <td>1</td>\n",
       "      <td>0</td>\n",
       "      <td>0</td>\n",
       "      <td>1</td>\n",
       "      <td>4</td>\n",
       "      <td>54919.07</td>\n",
       "      <td>39169.490</td>\n",
       "      <td>9939.42</td>\n",
       "      <td>34.940</td>\n",
       "      <td>3</td>\n",
       "      <td>2</td>\n",
       "      <td>0</td>\n",
       "      <td>0</td>\n",
       "      <td>104</td>\n",
       "      <td>1</td>\n",
       "    </tr>\n",
       "    <tr>\n",
       "      <th>2</th>\n",
       "      <td>1145</td>\n",
       "      <td>2971</td>\n",
       "      <td>25</td>\n",
       "      <td>1</td>\n",
       "      <td>1</td>\n",
       "      <td>2</td>\n",
       "      <td>1</td>\n",
       "      <td>2</td>\n",
       "      <td>74728.57</td>\n",
       "      <td>55873.760</td>\n",
       "      <td>2299.70</td>\n",
       "      <td>323.820</td>\n",
       "      <td>1</td>\n",
       "      <td>1</td>\n",
       "      <td>0</td>\n",
       "      <td>0</td>\n",
       "      <td>105</td>\n",
       "      <td>0</td>\n",
       "    </tr>\n",
       "    <tr>\n",
       "      <th>3</th>\n",
       "      <td>15308</td>\n",
       "      <td>2925</td>\n",
       "      <td>25</td>\n",
       "      <td>1</td>\n",
       "      <td>2</td>\n",
       "      <td>0</td>\n",
       "      <td>1</td>\n",
       "      <td>3</td>\n",
       "      <td>55712.62</td>\n",
       "      <td>35859.616</td>\n",
       "      <td>4335.70</td>\n",
       "      <td>12.996</td>\n",
       "      <td>1</td>\n",
       "      <td>3</td>\n",
       "      <td>0</td>\n",
       "      <td>0</td>\n",
       "      <td>70</td>\n",
       "      <td>1</td>\n",
       "    </tr>\n",
       "    <tr>\n",
       "      <th>4</th>\n",
       "      <td>14967</td>\n",
       "      <td>2339</td>\n",
       "      <td>38</td>\n",
       "      <td>1</td>\n",
       "      <td>2</td>\n",
       "      <td>0</td>\n",
       "      <td>0</td>\n",
       "      <td>4</td>\n",
       "      <td>53004.70</td>\n",
       "      <td>17440.408</td>\n",
       "      <td>4763.48</td>\n",
       "      <td>456.300</td>\n",
       "      <td>3</td>\n",
       "      <td>5</td>\n",
       "      <td>2</td>\n",
       "      <td>0</td>\n",
       "      <td>27</td>\n",
       "      <td>0</td>\n",
       "    </tr>\n",
       "  </tbody>\n",
       "</table>\n",
       "</div>"
      ],
      "text/plain": [
       "   TransactionNumber  UserID  Age  Gender  Occupation  EducationLevel  \\\n",
       "0               8765      70   37       0           2               1   \n",
       "1               9645    3386   34       1           0               0   \n",
       "2               1145    2971   25       1           1               2   \n",
       "3              15308    2925   25       1           2               0   \n",
       "4              14967    2339   38       1           2               0   \n",
       "\n",
       "   MaritalStatus  NumDependents    Income  Expenditure  GiftsTransaction  \\\n",
       "0              3              3  28884.43    14610.610           2100.02   \n",
       "1              1              4  54919.07    39169.490           9939.42   \n",
       "2              1              2  74728.57    55873.760           2299.70   \n",
       "3              1              3  55712.62    35859.616           4335.70   \n",
       "4              0              4  53004.70    17440.408           4763.48   \n",
       "\n",
       "   TransactionAmount  TransactionType  TransactionLocation  DeviceType  \\\n",
       "0            258.140                3                    0           0   \n",
       "1             34.940                3                    2           0   \n",
       "2            323.820                1                    1           0   \n",
       "3             12.996                1                    3           0   \n",
       "4            456.300                3                    5           2   \n",
       "\n",
       "   Terrorism  UserTenure  IsFraud  \n",
       "0          0         113        1  \n",
       "1          0         104        1  \n",
       "2          0         105        0  \n",
       "3          0          70        1  \n",
       "4          0          27        0  "
      ]
     },
     "execution_count": 307,
     "metadata": {},
     "output_type": "execute_result"
    }
   ],
   "source": [
    "train_judy = pd.read_csv('../Data/train_final_Judy.csv')\n",
    "train_judy.head()"
   ]
  },
  {
   "cell_type": "markdown",
   "metadata": {},
   "source": [
    "#### Correlation analysis"
   ]
  },
  {
   "cell_type": "code",
   "execution_count": 309,
   "metadata": {},
   "outputs": [
    {
     "name": "stdout",
     "output_type": "stream",
     "text": [
      "                     Income  Expenditure  GiftsTransaction  TransactionAmount\n",
      "Income             1.000000     0.833622          0.431099           0.007390\n",
      "Expenditure        0.833622     1.000000          0.355729           0.005689\n",
      "GiftsTransaction   0.431099     0.355729          1.000000          -0.005352\n",
      "TransactionAmount  0.007390     0.005689         -0.005352           1.000000\n"
     ]
    },
    {
     "data": {
      "image/png": "[encoded data removed]",
      "text/plain": [
       "<Figure size 1000x800 with 2 Axes>"
      ]
     },
     "metadata": {},
     "output_type": "display_data"
    }
   ],
   "source": [
    "columns_of_interest = ['Income', 'Expenditure', 'GiftsTransaction', 'TransactionAmount']\n",
    "data_of_interest = train_judy[columns_of_interest]\n",
    "\n",
    "correlation_matrix = data_of_interest.corr()\n",
    "\n",
    "print(correlation_matrix)\n",
    "\n",
    "plt.figure(figsize=(10, 8))\n",
    "sns.heatmap(correlation_matrix, annot=True, cmap='coolwarm', vmin=-1, vmax=1)\n",
    "plt.title('Correlation Matrix of Selected Features')\n",
    "plt.show()"
   ]
  },
  {
   "cell_type": "markdown",
   "metadata": {},
   "source": [
    "### Random Forest"
   ]
  },
  {
   "cell_type": "code",
   "execution_count": 327,
   "metadata": {},
   "outputs": [],
   "source": [
    "from sklearn.model_selection import train_test_split, cross_val_score\n",
    "from sklearn.ensemble import RandomForestClassifier\n",
    "from sklearn.metrics import classification_report, confusion_matrix, roc_auc_score"
   ]
  },
  {
   "cell_type": "code",
   "execution_count": 328,
   "metadata": {},
   "outputs": [
    {
     "name": "stdout",
     "output_type": "stream",
     "text": [
      "Confusion Matrix:\n",
      " [[1322   46]\n",
      " [ 357  469]]\n",
      "Classification Report:\n",
      "               precision    recall  f1-score   support\n",
      "\n",
      "           0       0.79      0.97      0.87      1368\n",
      "           1       0.91      0.57      0.70       826\n",
      "\n",
      "    accuracy                           0.82      2194\n",
      "   macro avg       0.85      0.77      0.78      2194\n",
      "weighted avg       0.83      0.82      0.80      2194\n",
      "\n",
      "AUC-ROC: 0.8782089404301715\n"
     ]
    }
   ],
   "source": [
    "X = train_judy.drop(columns=['IsFraud'])\n",
    "y = train_judy['IsFraud']\n",
    "\n",
    "X_train, X_test, y_train, y_test = train_test_split(X, y, test_size=0.2, random_state=42)\n",
    "\n",
    "model = RandomForestClassifier(random_state=42)\n",
    "model.fit(X_train, y_train)\n",
    "\n",
    "y_pred = model.predict(X_test)\n",
    "\n",
    "print(\"Confusion Matrix:\\n\", confusion_matrix(y_test, y_pred))\n",
    "print(\"Classification Report:\\n\", classification_report(y_test, y_pred))\n",
    "print(\"AUC-ROC:\", roc_auc_score(y_test, model.predict_proba(X_test)[:, 1]))"
   ]
  },
  {
   "cell_type": "code",
   "execution_count": 329,
   "metadata": {},
   "outputs": [
    {
     "ename": "",
     "evalue": "",
     "output_type": "error",
     "traceback": [
      "\u001b[1;31m在当前单元格或上一个单元格中执行代码时 Kernel 崩溃。\n",
      "\u001b[1;31m请查看单元格中的代码，以确定故障的可能原因。\n",
      "\u001b[1;31m单击<a href='https://aka.ms/vscodeJupyterKernelCrash'>此处</a>了解详细信息。\n",
      "\u001b[1;31m有关更多详细信息，请查看 Jupyter <a href='command:jupyter.viewOutput'>log</a>。"
     ]
    }
   ],
   "source": [
    "import tensorflow as tf\n",
    "from sklearn.preprocessing import StandardScaler\n"
   ]
  },
  {
   "cell_type": "code",
   "execution_count": null,
   "metadata": {},
   "outputs": [],
   "source": [
    "X_train, X_test, y_train, y_test = train_test_split(X, y, test_size=0.2, random_state=42)\n",
    "\n",
    "# Build the neural network model\n",
    "model = tf.keras.Sequential([\n",
    "    tf.keras.layers.Dense(64, activation='relu', input_shape=(X_train.shape[1],)),  # Input layer\n",
    "    tf.keras.layers.Dense(32, activation='relu'),  # Hidden layer 1\n",
    "    tf.keras.layers.Dense(16, activation='relu'),  # Hidden layer 2\n",
    "    tf.keras.layers.Dense(1, activation='sigmoid')  # Output layer\n",
    "])\n",
    "\n",
    "# Compile the model\n",
    "model.compile(optimizer='adam',\n",
    "              loss='binary_crossentropy',\n",
    "              metrics=['accuracy'])\n",
    "\n",
    "# Train the model\n",
    "history = model.fit(X_train, y_train, \n",
    "                    epochs=20, \n",
    "                    batch_size=32, \n",
    "                    validation_split=0.2, \n",
    "                    verbose=1)\n",
    "\n",
    "# Evaluate the model\n",
    "y_pred_prob = model.predict(X_test)\n",
    "y_pred = (y_pred_prob > 0.5).astype(int)\n",
    "\n",
    "# Print evaluation metrics\n",
    "print(classification_report(y_test, y_pred))"
   ]
  }
 ],
 "metadata": {
  "kernelspec": {
   "display_name": "Python 3",
   "language": "python",
   "name": "python3"
  },
  "language_info": {
   "codemirror_mode": {
    "name": "ipython",
    "version": 3
   },
   "file_extension": ".py",
   "mimetype": "text/x-python",
   "name": "python",
   "nbconvert_exporter": "python",
   "pygments_lexer": "ipython3",
   "version": "3.9.0"
  }
 },
 "nbformat": 4,
 "nbformat_minor": 2
}
