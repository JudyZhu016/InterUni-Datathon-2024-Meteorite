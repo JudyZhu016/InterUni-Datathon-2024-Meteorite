{
 "cells": [
  {
   "cell_type": "code",
   "execution_count": 174,
   "metadata": {},
   "outputs": [],
   "source": [
    "import numpy as np\n",
    "import pandas as pd\n",
    "from sklearn.preprocessing import LabelEncoder\n",
    "label_encoder = LabelEncoder()\n"
   ]
  },
  {
   "cell_type": "code",
   "execution_count": 202,
   "metadata": {},
   "outputs": [],
   "source": [
    "df_train= pd.read_csv(\"../Data/train.csv\")\n",
    "df_test= pd.read_csv(\"../Data/test.csv\")"
   ]
  },
  {
   "cell_type": "code",
   "execution_count": 176,
   "metadata": {},
   "outputs": [
    {
     "name": "stdout",
     "output_type": "stream",
     "text": [
      "<class 'pandas.core.frame.DataFrame'>\n",
      "RangeIndex: 10966 entries, 0 to 10965\n",
      "Data columns (total 24 columns):\n",
      " #   Column               Non-Null Count  Dtype  \n",
      "---  ------               --------------  -----  \n",
      " 0   TransactionNumber    10966 non-null  int64  \n",
      " 1   UserID               10966 non-null  int64  \n",
      " 2   Age                  10966 non-null  int64  \n",
      " 3   Gender               10966 non-null  object \n",
      " 4   Occupation           10966 non-null  object \n",
      " 5   EducationLevel       10966 non-null  object \n",
      " 6   MaritalStatus        10966 non-null  object \n",
      " 7   NumDependents        10966 non-null  int64  \n",
      " 8   Income               10966 non-null  object \n",
      " 9   Expenditure          10966 non-null  object \n",
      " 10  GiftsTransaction     10966 non-null  object \n",
      " 11  TransactionDate      10966 non-null  object \n",
      " 12  TransactionTime      10966 non-null  object \n",
      " 13  TransactionAmount    10966 non-null  object \n",
      " 14  MerchantID           10966 non-null  object \n",
      " 15  TransactionType      10966 non-null  object \n",
      " 16  TransactionLocation  10966 non-null  object \n",
      " 17  DeviceType           10966 non-null  object \n",
      " 18  Latitude             10923 non-null  float64\n",
      " 19  Longitude            10923 non-null  float64\n",
      " 20  EmailDomain          10966 non-null  object \n",
      " 21  Terrorism            10966 non-null  bool   \n",
      " 22  UserTenure           10966 non-null  int64  \n",
      " 23  IsFraud              10966 non-null  int64  \n",
      "dtypes: bool(1), float64(2), int64(6), object(15)\n",
      "memory usage: 1.9+ MB\n"
     ]
    }
   ],
   "source": [
    "df_train.info()"
   ]
  },
  {
   "cell_type": "code",
   "execution_count": 177,
   "metadata": {},
   "outputs": [
    {
     "data": {
      "text/plain": [
       "Index(['TransactionNumber', 'UserID', 'Age', 'Gender', 'Occupation',\n",
       "       'EducationLevel', 'MaritalStatus', 'NumDependents', 'Income',\n",
       "       'Expenditure', 'GiftsTransaction', 'TransactionDate', 'TransactionTime',\n",
       "       'TransactionAmount', 'MerchantID', 'TransactionType',\n",
       "       'TransactionLocation', 'DeviceType', 'Latitude', 'Longitude',\n",
       "       'EmailDomain', 'Terrorism', 'UserTenure', 'IsFraud'],\n",
       "      dtype='object')"
      ]
     },
     "execution_count": 177,
     "metadata": {},
     "output_type": "execute_result"
    }
   ],
   "source": [
    "df_train.columns"
   ]
  },
  {
   "cell_type": "markdown",
   "metadata": {},
   "source": [
    "## Data Analysis"
   ]
  },
  {
   "cell_type": "markdown",
   "metadata": {},
   "source": [
    "#### Checking labels distribution"
   ]
  },
  {
   "cell_type": "code",
   "execution_count": 178,
   "metadata": {},
   "outputs": [
    {
     "data": {
      "text/plain": [
       "<Axes: ylabel='count'>"
      ]
     },
     "execution_count": 178,
     "metadata": {},
     "output_type": "execute_result"
    },
    {
     "data": {
      "image/png": "[encoded data removed]",
      "text/plain": [
       "<Figure size 640x480 with 1 Axes>"
      ]
     },
     "metadata": {},
     "output_type": "display_data"
    }
   ],
   "source": [
    "df_train['IsFraud'].value_counts().plot.pie(explode=[0,0.1],autopct='%1.1f%%')"
   ]
  },
  {
   "cell_type": "markdown",
   "metadata": {},
   "source": [
    "36.4% Fraud and 63.6% not Fraud."
   ]
  },
  {
   "cell_type": "markdown",
   "metadata": {},
   "source": [
    "#### Checking amount unit"
   ]
  },
  {
   "cell_type": "code",
   "execution_count": 179,
   "metadata": {
    "vscode": {
     "languageId": "ruby"
    }
   },
   "outputs": [],
   "source": [
    "#df_train['transaction_units'] = df_train['TransactionAmount'].str.extract(r'([^\\d\\s.]+)')\n",
    "#df_train['income_units'] = df_train['Income'].str.extract(r'([^\\d\\s.]+)')\n",
    "#df_train['expend_units'] = df_train['Expenditure'].str.extract(r'([^\\d\\s.]+)')\n",
    "#print(df_train['transaction_units'].unique())\n",
    "#print(df_train['income_units'].unique())\n",
    "#print(df_train['expend_units'].unique())"
   ]
  },
  {
   "cell_type": "markdown",
   "metadata": {},
   "source": [
    "#### Checking gender type"
   ]
  },
  {
   "cell_type": "code",
   "execution_count": 180,
   "metadata": {
    "vscode": {
     "languageId": "ruby"
    }
   },
   "outputs": [
    {
     "name": "stdout",
     "output_type": "stream",
     "text": [
      "['Female' 'Male' 'he' 'isnotfemale' 'fem' 'she' 'man' 'woman' 'isnotmale']\n",
      "['man' 'Male' 'Female' 'he' 'fem' 'isnotfemale' 'she' 'isnotmale' 'woman']\n"
     ]
    }
   ],
   "source": [
    "print(df_train['Gender'].unique())\n",
    "print(df_test['Gender'].unique())"
   ]
  },
  {
   "cell_type": "code",
   "execution_count": 181,
   "metadata": {
    "vscode": {
     "languageId": "ruby"
    }
   },
   "outputs": [
    {
     "name": "stdout",
     "output_type": "stream",
     "text": [
      "['F' 'M' 'O']\n"
     ]
    }
   ],
   "source": [
    "def unify_gender(gender):\n",
    "    if gender in ['Female', 'fem', 'she', 'woman']:\n",
    "        return 'F'\n",
    "    elif gender in ['Male', 'he', 'man']:\n",
    "        return 'M'\n",
    "    elif gender in ['isnotfemale', 'isnotmale']:\n",
    "        return 'O'\n",
    "    else:\n",
    "        return 'unknown'\n",
    "\n",
    "df_train['Gender'] = df_train['Gender'].apply(unify_gender)\n",
    "\n",
    "print(df_train['Gender'].unique())"
   ]
  },
  {
   "cell_type": "code",
   "execution_count": 182,
   "metadata": {
    "vscode": {
     "languageId": "ruby"
    }
   },
   "outputs": [
    {
     "data": {
      "text/plain": [
       "array([0, 1, 2])"
      ]
     },
     "execution_count": 182,
     "metadata": {},
     "output_type": "execute_result"
    }
   ],
   "source": [
    "df_train['Gender'] = label_encoder.fit_transform(df_train['Gender'])\n",
    "df_train['Gender'].unique()"
   ]
  },
  {
   "cell_type": "code",
   "execution_count": 183,
   "metadata": {
    "vscode": {
     "languageId": "ruby"
    }
   },
   "outputs": [
    {
     "data": {
      "text/plain": [
       "array([1, 0, 2])"
      ]
     },
     "execution_count": 183,
     "metadata": {},
     "output_type": "execute_result"
    }
   ],
   "source": [
    "df_test['Gender'] = df_test['Gender'].apply(unify_gender)\n",
    "df_test['Gender'] = label_encoder.fit_transform(df_test['Gender'])\n",
    "df_test.Gender.unique()"
   ]
  },
  {
   "cell_type": "markdown",
   "metadata": {},
   "source": [
    "#### Checking age"
   ]
  },
  {
   "cell_type": "code",
   "execution_count": 203,
   "metadata": {
    "vscode": {
     "languageId": "ruby"
    }
   },
   "outputs": [
    {
     "data": {
      "text/plain": [
       "Age\n",
       " 18       512\n",
       " 32       412\n",
       " 39       398\n",
       " 36       378\n",
       " 33       369\n",
       "         ... \n",
       " 67000      1\n",
       "-66         1\n",
       "-58         1\n",
       " 66000      1\n",
       "-60         1\n",
       "Name: count, Length: 142, dtype: int64"
      ]
     },
     "execution_count": 203,
     "metadata": {},
     "output_type": "execute_result"
    }
   ],
   "source": [
    "df_train.Age.value_counts()"
   ]
  },
  {
   "cell_type": "code",
   "execution_count": 184,
   "metadata": {},
   "outputs": [
    {
     "data": {
      "text/plain": [
       "Age\n",
       "-1     1744\n",
       " 18     512\n",
       " 32     412\n",
       " 39     398\n",
       " 36     378\n",
       " 33     369\n",
       " 40     367\n",
       " 34     361\n",
       " 35     361\n",
       " 31     360\n",
       " 30     315\n",
       " 37     315\n",
       " 28     293\n",
       " 38     291\n",
       " 27     288\n",
       " 26     267\n",
       " 42     266\n",
       " 43     245\n",
       " 41     245\n",
       " 29     241\n",
       " 44     234\n",
       " 24     232\n",
       " 25     214\n",
       " 21     211\n",
       " 23     199\n",
       " 47     186\n",
       " 45     179\n",
       " 46     178\n",
       " 48     165\n",
       " 49     146\n",
       " 22     137\n",
       " 50     136\n",
       " 20     133\n",
       " 19     103\n",
       " 51      86\n",
       " 54      63\n",
       " 52      62\n",
       " 53      59\n",
       " 55      53\n",
       " 57      29\n",
       " 60      24\n",
       " 61      22\n",
       " 56      18\n",
       " 59      16\n",
       " 58      15\n",
       " 62      13\n",
       " 66       9\n",
       " 68       8\n",
       " 63       6\n",
       " 64       2\n",
       "Name: count, dtype: int64"
      ]
     },
     "execution_count": 184,
     "metadata": {},
     "output_type": "execute_result"
    }
   ],
   "source": [
    "df_train.loc[(df_train['Age'] < 0) | (df_train['Age'] > 100), 'Age'] = -1\n",
    "df_train['Age'].value_counts()"
   ]
  },
  {
   "cell_type": "code",
   "execution_count": 201,
   "metadata": {},
   "outputs": [
    {
     "data": {
      "text/plain": [
       "Age\n",
       "-1     1187\n",
       " 18     381\n",
       " 32     276\n",
       " 36     250\n",
       " 40     245\n",
       " 39     242\n",
       " 31     240\n",
       " 37     227\n",
       " 34     225\n",
       " 38     225\n",
       " 33     221\n",
       " 30     219\n",
       " 28     201\n",
       " 35     200\n",
       " 27     192\n",
       " 42     191\n",
       " 41     190\n",
       " 26     181\n",
       " 24     172\n",
       " 29     169\n",
       " 43     157\n",
       " 25     138\n",
       " 21     135\n",
       " 47     126\n",
       " 44     124\n",
       " 23     122\n",
       " 45     115\n",
       " 22     112\n",
       " 46     111\n",
       " 48     108\n",
       " 49      90\n",
       " 20      85\n",
       " 50      75\n",
       " 19      72\n",
       " 51      63\n",
       " 54      38\n",
       " 52      36\n",
       " 53      33\n",
       " 55      26\n",
       " 57      23\n",
       " 56      21\n",
       " 60      19\n",
       " 58      10\n",
       " 59       9\n",
       " 66       9\n",
       " 62       8\n",
       " 63       5\n",
       " 61       4\n",
       " 67       2\n",
       " 68       1\n",
       " 64       1\n",
       "Name: count, dtype: int64"
      ]
     },
     "execution_count": 201,
     "metadata": {},
     "output_type": "execute_result"
    }
   ],
   "source": [
    "df_test.loc[(df_test['Age'] < 0) | (df_test['Age'] > 100), 'Age'] = -1\n",
    "df_test['Age'].value_counts()"
   ]
  },
  {
   "cell_type": "markdown",
   "metadata": {},
   "source": [
    "#### Handling Terrorism"
   ]
  },
  {
   "cell_type": "code",
   "execution_count": 185,
   "metadata": {},
   "outputs": [],
   "source": [
    "df_train['Terrorism'] = df_train['Terrorism'].astype(int)"
   ]
  },
  {
   "cell_type": "markdown",
   "metadata": {},
   "source": [
    "#### Handling TransactionType"
   ]
  },
  {
   "cell_type": "code",
   "execution_count": 186,
   "metadata": {},
   "outputs": [
    {
     "data": {
      "text/plain": [
       "array(['Withdrawal', 'Purchase', 'Payment', 'Transfer'], dtype=object)"
      ]
     },
     "execution_count": 186,
     "metadata": {},
     "output_type": "execute_result"
    }
   ],
   "source": [
    "df_train['TransactionType'].unique()"
   ]
  },
  {
   "cell_type": "code",
   "execution_count": 187,
   "metadata": {},
   "outputs": [
    {
     "data": {
      "text/plain": [
       "array([3, 1, 0, 2])"
      ]
     },
     "execution_count": 187,
     "metadata": {},
     "output_type": "execute_result"
    }
   ],
   "source": [
    "df_train['TransactionType'] = label_encoder.fit_transform(df_train['TransactionType'])\n",
    "df_train['TransactionType'].unique()"
   ]
  },
  {
   "cell_type": "markdown",
   "metadata": {},
   "source": [
    "#### Handling TransactionLocation"
   ]
  },
  {
   "cell_type": "code",
   "execution_count": 188,
   "metadata": {},
   "outputs": [
    {
     "data": {
      "text/plain": [
       "array(['Adelaide', 'Canberra', 'Brisbane', 'Darwin', 'MLB', 'Mel',\n",
       "       'Sydney', 'Hobart', 'HBT', 'Melb', 'Perth', 'Melbourne',\n",
       "       'canberra', 'brisbane', 'melbourne', 'Bne', 'perth', 'DRW',\n",
       "       'Melburn', 'hobart', 'darwin', 'Adelaide City', 'Adl', 'CBR',\n",
       "       'PTH', 'Cbr', 'Drw', 'sydney', 'BNE', 'Pth', 'SYD', 'Hbt', 'adl',\n",
       "       'Syd'], dtype=object)"
      ]
     },
     "execution_count": 188,
     "metadata": {},
     "output_type": "execute_result"
    }
   ],
   "source": [
    "df_train['TransactionLocation'].unique()"
   ]
  },
  {
   "cell_type": "code",
   "execution_count": 189,
   "metadata": {},
   "outputs": [
    {
     "data": {
      "text/plain": [
       "array(['ADL', 'CBR', 'BNE', 'DRW', 'MLB', 'SYD', 'HBT', 'PTH'],\n",
       "      dtype=object)"
      ]
     },
     "execution_count": 189,
     "metadata": {},
     "output_type": "execute_result"
    }
   ],
   "source": [
    "def unify_location(location):\n",
    "    if location in ['Adelaide', 'Adelaide City', 'Adl', 'adl']:\n",
    "        return 'ADL'\n",
    "    elif location in ['Canberra', 'canberra', 'CBR' ,'Cbr']:\n",
    "        return 'CBR'\n",
    "    elif location in ['Brisbane', 'brisbane', 'Bne', 'BNE']:\n",
    "        return 'BNE'\n",
    "    elif location in ['Darwin', 'DRW', 'darwin', 'Drw']:\n",
    "        return 'DRW'\n",
    "    elif location in ['MLB', 'Mel', 'Melb', 'Melbourne', 'melbourne', 'Melburn']:\n",
    "        return 'MLB'\n",
    "    elif location in ['Sydney', 'sydney', 'SYD', 'Syd']:\n",
    "        return 'SYD'\n",
    "    elif location in ['Hobart', 'HBT', 'hobart', 'Hbt']:\n",
    "        return 'HBT'\n",
    "    elif location in ['Perth', 'perth', 'PTH', 'Pth']:\n",
    "        return 'PTH'\n",
    "    else:\n",
    "        return 'unknown'\n",
    "\n",
    "df_train['TransactionLocation'] = df_train['TransactionLocation'].apply(unify_location)\n",
    "df_train['TransactionLocation'].unique()"
   ]
  },
  {
   "cell_type": "code",
   "execution_count": 190,
   "metadata": {},
   "outputs": [
    {
     "data": {
      "text/plain": [
       "array([0, 2, 1, 3, 5, 7, 4, 6])"
      ]
     },
     "execution_count": 190,
     "metadata": {},
     "output_type": "execute_result"
    }
   ],
   "source": [
    "df_train['TransactionLocation'] = label_encoder.fit_transform(df_train['TransactionLocation'])\n",
    "df_train['TransactionLocation'].unique()"
   ]
  },
  {
   "cell_type": "markdown",
   "metadata": {},
   "source": [
    "#### Education level"
   ]
  },
  {
   "cell_type": "code",
   "execution_count": 191,
   "metadata": {},
   "outputs": [
    {
     "data": {
      "text/plain": [
       "array(['Bachelor', 'High School', 'Master', 'PhD'], dtype=object)"
      ]
     },
     "execution_count": 191,
     "metadata": {},
     "output_type": "execute_result"
    }
   ],
   "source": [
    "df_train['EducationLevel'].unique()"
   ]
  },
  {
   "cell_type": "code",
   "execution_count": 192,
   "metadata": {},
   "outputs": [
    {
     "data": {
      "text/plain": [
       "array([1, 0, 2, 3], dtype=int8)"
      ]
     },
     "execution_count": 192,
     "metadata": {},
     "output_type": "execute_result"
    }
   ],
   "source": [
    "education_order = ['High School', 'Bachelor', 'Master', 'PhD']\n",
    "df_train['EducationLevel'] = pd.Categorical(df_train['EducationLevel'], categories= education_order, ordered=True)\n",
    "df_train['EducationLevel'] = df_train['EducationLevel'].cat.codes\n",
    "df_train['EducationLevel'].unique()"
   ]
  },
  {
   "cell_type": "markdown",
   "metadata": {},
   "source": [
    "#### Occupation"
   ]
  },
  {
   "cell_type": "code",
   "execution_count": 193,
   "metadata": {},
   "outputs": [
    {
     "data": {
      "text/plain": [
       "array(['Professional', 'Student', 'Unemployed', 'Retired'], dtype=object)"
      ]
     },
     "execution_count": 193,
     "metadata": {},
     "output_type": "execute_result"
    }
   ],
   "source": [
    "df_train['Occupation'].unique()"
   ]
  },
  {
   "cell_type": "code",
   "execution_count": 194,
   "metadata": {},
   "outputs": [
    {
     "data": {
      "text/plain": [
       "array([2, 0, 1, 3], dtype=int8)"
      ]
     },
     "execution_count": 194,
     "metadata": {},
     "output_type": "execute_result"
    }
   ],
   "source": [
    "occupation_order = ['Student', 'Unemployed', 'Professional', 'Retired']\n",
    "df_train['Occupation'] = pd.Categorical(df_train['Occupation'], categories= occupation_order, ordered=True)\n",
    "df_train['Occupation'] = df_train['Occupation'].cat.codes\n",
    "df_train['Occupation'].unique()"
   ]
  },
  {
   "cell_type": "markdown",
   "metadata": {},
   "source": [
    "#### Marital Status"
   ]
  },
  {
   "cell_type": "code",
   "execution_count": 195,
   "metadata": {},
   "outputs": [
    {
     "data": {
      "text/plain": [
       "array(['Widowed', 'Married', 'Single', 'Divorced'], dtype=object)"
      ]
     },
     "execution_count": 195,
     "metadata": {},
     "output_type": "execute_result"
    }
   ],
   "source": [
    "df_train['MaritalStatus'].unique()"
   ]
  },
  {
   "cell_type": "code",
   "execution_count": 196,
   "metadata": {},
   "outputs": [
    {
     "data": {
      "text/plain": [
       "array([3, 1, 0, 2], dtype=int8)"
      ]
     },
     "execution_count": 196,
     "metadata": {},
     "output_type": "execute_result"
    }
   ],
   "source": [
    "marital_order = ['Single', 'Married', 'Divorced', 'Widowed']\n",
    "df_train['MaritalStatus'] = pd.Categorical(df_train['MaritalStatus'], categories= marital_order, ordered=True)\n",
    "df_train['MaritalStatus'] = df_train['MaritalStatus'].cat.codes\n",
    "df_train['MaritalStatus'].unique()"
   ]
  },
  {
   "cell_type": "markdown",
   "metadata": {},
   "source": [
    "#### Device type"
   ]
  },
  {
   "cell_type": "code",
   "execution_count": 197,
   "metadata": {},
   "outputs": [
    {
     "data": {
      "text/plain": [
       "array(['Mobile', 'iphone 15', 'Tablet', 'Desktop', 'android',\n",
       "       'smartphone', 'mob', 'galaxys7'], dtype=object)"
      ]
     },
     "execution_count": 197,
     "metadata": {},
     "output_type": "execute_result"
    }
   ],
   "source": [
    "df_train['DeviceType'].unique()"
   ]
  },
  {
   "cell_type": "code",
   "execution_count": 198,
   "metadata": {},
   "outputs": [
    {
     "data": {
      "text/plain": [
       "0"
      ]
     },
     "execution_count": 198,
     "metadata": {},
     "output_type": "execute_result"
    }
   ],
   "source": [
    "df_train.DeviceType = df_train.DeviceType.map({'Mobile': 'mobile', 'Desktop': 'computer', 'Tablet': 'tablet', \n",
    "                      'galaxys7': 'mobile', 'iphone 15': 'mobile', 'android': 'mobile',\n",
    "                     'smartphone': 'mobile', 'mob': 'mobile'})\n",
    "\n",
    "df_train.DeviceType.isnull().sum()"
   ]
  },
  {
   "cell_type": "code",
   "execution_count": 199,
   "metadata": {},
   "outputs": [
    {
     "data": {
      "text/plain": [
       "array([0, 2, 1])"
      ]
     },
     "execution_count": 199,
     "metadata": {},
     "output_type": "execute_result"
    }
   ],
   "source": [
    "df_train.DeviceType = df_train.DeviceType.map({'mobile': 0, 'computer': 1, 'tablet': 2})\n",
    "df_train.DeviceType.unique()"
   ]
  },
  {
   "cell_type": "markdown",
   "metadata": {},
   "source": [
    "#### Drop not important features"
   ]
  },
  {
   "cell_type": "code",
   "execution_count": 200,
   "metadata": {},
   "outputs": [],
   "source": [
    "df_train.drop(['TransactionDate','TransactionTime','MerchantID','EmailDomain'],axis=1,inplace=True)"
   ]
  },
  {
   "cell_type": "markdown",
   "metadata": {},
   "source": [
    "## Modeling"
   ]
  },
  {
   "cell_type": "code",
   "execution_count": null,
   "metadata": {},
   "outputs": [],
   "source": []
  },
  {
   "cell_type": "code",
   "execution_count": null,
   "metadata": {},
   "outputs": [],
   "source": []
  }
 ],
 "metadata": {
  "kernelspec": {
   "display_name": "Python 3",
   "language": "python",
   "name": "python3"
  },
  "language_info": {
   "codemirror_mode": {
    "name": "ipython",
    "version": 3
   },
   "file_extension": ".py",
   "mimetype": "text/x-python",
   "name": "python",
   "nbconvert_exporter": "python",
   "pygments_lexer": "ipython3",
   "version": "3.9.0"
  }
 },
 "nbformat": 4,
 "nbformat_minor": 2
}
